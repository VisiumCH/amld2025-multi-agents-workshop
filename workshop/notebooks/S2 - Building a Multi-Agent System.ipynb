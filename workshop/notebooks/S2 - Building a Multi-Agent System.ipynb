{
 "cells": [
  {
   "cell_type": "code",
   "execution_count": 25,
   "metadata": {},
   "outputs": [],
   "source": [
    "import os\n",
    "import pickle\n",
    "from dataclasses import dataclass, field\n",
    "from typing import Annotated, Literal\n",
    "\n",
    "from IPython.display import Markdown\n",
    "from langchain_chroma import Chroma\n",
    "from langchain_core.documents import Document\n",
    "from langchain_core.messages import HumanMessage, SystemMessage, ToolMessage\n",
    "from langchain_openai import ChatOpenAI, OpenAIEmbeddings\n",
    "from langgraph.constants import Send\n",
    "from langgraph.graph import END, StateGraph\n",
    "from langgraph.graph.message import add_messages\n",
    "from langgraph.types import Command\n",
    "from pydantic import BaseModel, Field"
   ]
  },
  {
   "cell_type": "markdown",
   "metadata": {},
   "source": [
    "### Environment and Global Configuration"
   ]
  },
  {
   "cell_type": "code",
   "execution_count": 12,
   "metadata": {},
   "outputs": [],
   "source": [
    "if not os.environ.get(\"OPENAI_API_KEY\"):\n",
    "    raise ValueError(\"Please set OPENAI_API_KEY environment variable\")\n",
    "\n",
    "LLM_MODEL = \"gpt-4o-mini\"\n",
    "LLM_TEMPERATURE = 0\n",
    "\n",
    "EMBEDDING_MODEL = \"text-embedding-3-small\"\n",
    "RETRIEVAL_K = 3"
   ]
  },
  {
   "cell_type": "code",
   "execution_count": 13,
   "metadata": {},
   "outputs": [],
   "source": [
    "base_model = ChatOpenAI(model=LLM_MODEL, temperature=LLM_TEMPERATURE)"
   ]
  },
  {
   "cell_type": "markdown",
   "metadata": {},
   "source": [
    "### Instanciate database and tool"
   ]
  },
  {
   "cell_type": "code",
   "execution_count": 7,
   "metadata": {},
   "outputs": [],
   "source": [
    "def load_documents(pickle_filepath: str) -> list[Document]:\n",
    "    \"\"\"Load documents from a pickle file.\"\"\"\n",
    "    with open(pickle_filepath, \"rb\") as file:\n",
    "        return pickle.load(file)\n",
    "\n",
    "\n",
    "def initialize_vector_store(document_chunks: list[Document]) -> Chroma:\n",
    "    \"\"\"Reset the Chroma collection and initialize a vector store using document chunks.\"\"\"\n",
    "    Chroma().reset_collection()\n",
    "    embedding_model = OpenAIEmbeddings(model=EMBEDDING_MODEL)\n",
    "    return Chroma.from_documents(documents=document_chunks, embedding=embedding_model)\n",
    "\n",
    "\n",
    "data_dir = \"../data/\"\n",
    "data_file = \"bloomberg_financial_news.pkl\"\n",
    "\n",
    "documents = load_documents(os.path.join(data_dir, data_file))\n",
    "\n",
    "vector_store = initialize_vector_store(documents[:1000])\n",
    "retriever = vector_store.as_retriever(search_kwargs={\"k\": RETRIEVAL_K})"
   ]
  },
  {
   "cell_type": "code",
   "execution_count": null,
   "metadata": {},
   "outputs": [],
   "source": [
    "from langchain_core.tools import tool\n",
    "\n",
    "\n",
    "@tool\n",
    "def retrieval(retrieval_query: str) -> list[Document]:\n",
    "    \"\"\"Retrieve documents based on a query.\"\"\"\n",
    "    return retriever.invoke(retrieval_query)"
   ]
  },
  {
   "cell_type": "markdown",
   "metadata": {},
   "source": [
    "## LangGraph Workflow and state"
   ]
  },
  {
   "cell_type": "markdown",
   "metadata": {},
   "source": [
    "![Orchestator Workflow](../imgs/8985fc683fae4780fb34eab1365ab78c7e51bc8e-2401x1000.webp)"
   ]
  },
  {
   "cell_type": "markdown",
   "metadata": {},
   "source": [
    "State: shared state between all the nodes\n",
    "\n",
    "messages: the message chain\n",
    "analyses: the reserach analyses\n",
    "\n",
    "Annotated: detail how to treat the data"
   ]
  },
  {
   "cell_type": "code",
   "execution_count": null,
   "metadata": {},
   "outputs": [],
   "source": [
    "import operator\n",
    "\n",
    "\n",
    "@dataclass(kw_only=True)\n",
    "class WorkflowState:\n",
    "    \"\"\"Graph state tracking for the financial analysis workflow.\"\"\"\n",
    "\n",
    "    messages: Annotated[list, add_messages] = field(default_factory=list)\n",
    "    analyses: Annotated[list, operator.add] = field(default_factory=list)"
   ]
  },
  {
   "cell_type": "markdown",
   "metadata": {},
   "source": [
    "Constrained output: ask the model to output a particular format, leverages pydantic"
   ]
  },
  {
   "cell_type": "code",
   "execution_count": 14,
   "metadata": {},
   "outputs": [],
   "source": [
    "class ResearchTask(BaseModel):\n",
    "    \"\"\"Task for the financial analysis workflow.\"\"\"\n",
    "\n",
    "    topic: str = Field(description=\"Topic of the research task.\")\n",
    "    description: str = Field(\n",
    "        description=\"Brief description of the task and its objectives.\"\n",
    "    )\n",
    "\n",
    "\n",
    "class OrchestratorDecision(BaseModel):\n",
    "    \"\"\"List of research tasks for the financial analysis workflow.\"\"\"\n",
    "\n",
    "    response: str = Field(description=\"Rationale for the decision and research tasks.\")\n",
    "    in_scope: bool = Field(\n",
    "        description=\"Wether the client request is in scope for the financial analysis.\"\n",
    "    )\n",
    "    research_tasks: list[ResearchTask] | None = Field(\n",
    "        description=\"List of research tasks to be completed.\"\n",
    "    )"
   ]
  },
  {
   "cell_type": "markdown",
   "metadata": {},
   "source": [
    "### Orchestrator"
   ]
  },
  {
   "cell_type": "code",
   "execution_count": 15,
   "metadata": {},
   "outputs": [],
   "source": [
    "# -----------------------------------------------------------------------------\n",
    "# CIA Agent\n",
    "# -----------------------------------------------------------------------------\n",
    "\n",
    "CIA_PROMPT = \"\"\"\n",
    "You are a Client Interface Agent (CIA) in a financial analysis system. You have multiple Research Agents with access to Bloomberg Financial News under your supervision.\n",
    "\n",
    "Given a client request, provide a concise, polite and professional response regarding the feasibility of the request and the approach that will be taken to address it.\n",
    "\n",
    "If the user's request is addressable, create a short list of highly specific research topics that the Research Agents will investigate to fulfill the client's request.\n",
    "\"\"\"\n",
    "\n",
    "cia_model = base_model.with_structured_output(OrchestratorDecision)"
   ]
  },
  {
   "cell_type": "code",
   "execution_count": 16,
   "metadata": {},
   "outputs": [],
   "source": [
    "def cia(state: WorkflowState) -> Command[Literal[\"research\", END]]:\n",
    "    \"\"\"Orchestrator that generates a plan for the report.\"\"\"\n",
    "    orchestrator_output = cia_model.invoke(\n",
    "        [\n",
    "            SystemMessage(CIA_PROMPT),\n",
    "            *state.messages,\n",
    "        ]\n",
    "    )\n",
    "    print(orchestrator_output)\n",
    "\n",
    "    return Command(\n",
    "        update={\"messages\": orchestrator_output.response},\n",
    "        goto=[Send(\"research\", task) for task in orchestrator_output.research_tasks]\n",
    "        if orchestrator_output.in_scope\n",
    "        else END,\n",
    "    )"
   ]
  },
  {
   "cell_type": "markdown",
   "metadata": {},
   "source": [
    "### Research"
   ]
  },
  {
   "cell_type": "code",
   "execution_count": 17,
   "metadata": {},
   "outputs": [],
   "source": [
    "BRA_PROMPT = \"\"\"\n",
    "You are a Research Agent in a financial analysis system. You are tasked with writing a concise research report on a specific topic provided by the Client Interface Agent (CIA) based on available documents.\n",
    "\n",
    "To do so, you have access to a Bloomberg Financial News database that you can query. You should query the vector store for documents relevant to your task and write a concise summary of the information you find.\n",
    "\n",
    "Your report should be short and informative, conveying only the most important information from the documents, to allow a Synthesis Agent to quickly generate a report for the client based on the findings of all Research Agents.\n",
    "\n",
    "\"\"\"\n",
    "\n",
    "tools = [retrieval]\n",
    "tools_by_name = {tool.name: tool for tool in tools}\n",
    "bra_model = base_model.bind_tools(tools)"
   ]
  },
  {
   "cell_type": "code",
   "execution_count": 18,
   "metadata": {},
   "outputs": [],
   "source": [
    "def bra(task: ResearchTask) -> Command[Literal[\"synthesizer\"]]:\n",
    "    \"\"\"Research agent that can query the vector store for relevant documents.\"\"\"\n",
    "    research = bra_model.invoke(\n",
    "        [\n",
    "            SystemMessage(BRA_PROMPT),\n",
    "            HumanMessage(\n",
    "                f\"Research Task: {task.topic}\\n\\n Description: {task.description}\"\n",
    "            ),\n",
    "        ]\n",
    "    )\n",
    "\n",
    "    if research.tool_calls:\n",
    "        tool_call = research.tool_calls[0]\n",
    "        tool = tools_by_name[tool_call[\"name\"]]\n",
    "        documents = tool.invoke(tool_call[\"args\"])\n",
    "\n",
    "        print([doc.metadata[\"Headline\"] for doc in documents])\n",
    "\n",
    "        research = base_model.invoke(\n",
    "            [\n",
    "                SystemMessage(BRA_PROMPT),\n",
    "                HumanMessage(\n",
    "                    f\"Research Task: {task.topic}\\n\\n Description: {task.description}\"\n",
    "                ),\n",
    "                research,\n",
    "                ToolMessage(\n",
    "                    content=\"\\n\\n\".join(\n",
    "                        [\n",
    "                            f\"{doc.metadata['Headline']}\\n{doc.page_content}\"\n",
    "                            for doc in documents\n",
    "                        ]\n",
    "                    ),\n",
    "                    tool_call_id=tool_call[\"id\"],\n",
    "                ),\n",
    "            ]\n",
    "        )\n",
    "\n",
    "    print(research.content)\n",
    "\n",
    "    return Command(\n",
    "        update={\"analyses\": [research.content]},\n",
    "        goto=\"synthesizer\",\n",
    "    )"
   ]
  },
  {
   "cell_type": "markdown",
   "metadata": {},
   "source": [
    "### Synthetizer"
   ]
  },
  {
   "cell_type": "code",
   "execution_count": 19,
   "metadata": {},
   "outputs": [],
   "source": [
    "MSSA_PROMPT = \"\"\"\n",
    "You are a Market Strategist & Synthesis Agent (MSSA) in a financial analysis system. You receive the analysis reports generated by the Research Agents, and are tasked with synthesizing the information into a final report for the client.\n",
    "\n",
    "You should cross-reference the analyses and write a final report that covers the key findings in a clear and concise manner to address the client's request.\n",
    "\"\"\""
   ]
  },
  {
   "cell_type": "code",
   "execution_count": 20,
   "metadata": {},
   "outputs": [],
   "source": [
    "def mssa(state: WorkflowState) -> Command[Literal[END]]:\n",
    "    \"\"\"Synthesize full report from research analyses.\"\"\"\n",
    "    analyses_reports = state.analyses\n",
    "\n",
    "    complete_analyses = \"\\n\\n---\\n\\n\".join(analyses_reports)\n",
    "\n",
    "    synthesizer_output = base_model.invoke(\n",
    "        [\n",
    "            SystemMessage(MSSA_PROMPT),\n",
    "            *state.messages,\n",
    "            HumanMessage(complete_analyses),\n",
    "        ]\n",
    "    )\n",
    "    print(synthesizer_output.content)\n",
    "\n",
    "    return Command(\n",
    "        update={\"messages\": synthesizer_output},\n",
    "        goto=END,\n",
    "    )"
   ]
  },
  {
   "cell_type": "markdown",
   "metadata": {},
   "source": [
    "### Graph building"
   ]
  },
  {
   "cell_type": "code",
   "execution_count": 21,
   "metadata": {},
   "outputs": [],
   "source": [
    "# Build workflow\n",
    "graph_builder = StateGraph(WorkflowState)\n",
    "\n",
    "# Entry point\n",
    "graph_builder.set_entry_point(\"orchestrator\")\n",
    "\n",
    "# Add the nodes\n",
    "graph_builder.add_node(\"orchestrator\", cia)\n",
    "graph_builder.add_node(\"research\", bra)\n",
    "graph_builder.add_node(\"synthesizer\", mssa)\n",
    "\n",
    "# The edges are defined by the commands\n",
    "\n",
    "# Compile the workflow\n",
    "app = graph_builder.compile()"
   ]
  },
  {
   "cell_type": "code",
   "execution_count": 22,
   "metadata": {},
   "outputs": [
    {
     "data": {
      "image/png": "[encoded data removed]",
      "text/plain": [
       "<IPython.core.display.Image object>"
      ]
     },
     "metadata": {},
     "output_type": "display_data"
    }
   ],
   "source": [
    "from IPython.display import Image\n",
    "\n",
    "# Show the workflow\n",
    "display(Image(app.get_graph().draw_mermaid_png()))"
   ]
  },
  {
   "cell_type": "code",
   "execution_count": 23,
   "metadata": {},
   "outputs": [
    {
     "name": "stdout",
     "output_type": "stream",
     "text": [
      "response='Your request for an investment strategy in the technology sector is certainly in scope. We will focus on identifying key trends, potential growth areas, and risk factors within the sector to formulate a comprehensive strategy. Our Research Agents will investigate the following specific topics:' in_scope=True research_tasks=[ResearchTask(topic='Current Trends in Technology Investments', description='Analyze the latest trends in technology investments, including emerging technologies and sectors with high growth potential.'), ResearchTask(topic='Top Performing Technology Stocks', description='Identify and evaluate the top performing technology stocks over the past year and their future outlook.'), ResearchTask(topic='Risk Assessment in Technology Sector', description='Assess the risks associated with investing in the technology sector, including market volatility and regulatory challenges.'), ResearchTask(topic='Investment Strategies for Technology Sector', description='Explore various investment strategies tailored for the technology sector, including growth investing, value investing, and diversification approaches.')]\n",
      "['Wipro Quarterly Profit Rises 2.5% on Outsourcing Demand', 'TT Electronics Rises on Goldman Sachs Buy Rating: London Mover', 'Celestica Rises to Two-Year High as Profit Tops Estimates']\n",
      "['Advent Software Says New Bank Rules Driving European Expansion', 'Japan’s IPOs to Jump 67% on Abenomics Rally, Adachi Says', 'EU Probes Show Finance Industry Lacks Transparency, Almunia Says']\n",
      "['Google-Backed Report Says Turkey’s Online Business Will Surge', 'Japan’s IPOs to Jump 67% on Abenomics Rally, Adachi Says', 'Wipro Quarterly Profit Rises 2.5% on Outsourcing Demand']\n",
      "['Japan’s IPOs to Jump 67% on Abenomics Rally, Adachi Says', 'Scottish Equity May Channel $108 Million Into U.K. Clean Energy', 'ITC Plans to Invest $4.4 Billion in Five Years']\n",
      "### Research Report: Risk Assessment in the Technology Sector\n",
      "\n",
      "#### Overview\n",
      "Investing in the technology sector presents various risks, primarily stemming from market volatility and regulatory challenges. This report summarizes key findings related to these risks.\n",
      "\n",
      "#### Market Volatility\n",
      "The technology sector is characterized by significant market fluctuations, influenced by broader economic conditions and investor sentiment. For instance, the recent surge in Japan's IPO market, driven by government policies, highlights the potential for rapid growth but also underscores the inherent volatility. The Japan Venture Capital Association anticipates a 67% increase in IPOs, primarily from technology firms, indicating a bullish market environment. However, such optimism can lead to overvaluation and subsequent corrections, posing risks to investors.\n",
      "\n",
      "#### Regulatory Challenges\n",
      "Regulatory scrutiny is intensifying within the technology sector, particularly in Europe and the U.S. The European Union has launched investigations into financial transparency, which could impact technology firms involved in financial services. The EU's focus on compliance and transparency is indicative of a broader trend where technology companies must navigate complex regulatory landscapes. For example, stricter capital rules for banks in Europe are driving demand for compliance solutions, presenting both opportunities and challenges for tech firms.\n",
      "\n",
      "Additionally, the ongoing probes into market practices, such as the manipulation of benchmark interest rates, highlight the potential for regulatory actions that could disrupt operations and affect profitability in the technology sector.\n",
      "\n",
      "#### Conclusion\n",
      "Investors in the technology sector should be aware of the dual risks of market volatility and regulatory challenges. While the sector offers growth potential, particularly in areas like compliance and automation, the landscape is fraught with uncertainties that could impact investment outcomes. Careful assessment and strategic planning are essential for navigating these risks effectively.\n",
      "### Research Report: Top Performing Technology Stocks\n",
      "\n",
      "#### Overview\n",
      "In the past year, several technology stocks have demonstrated strong performance, driven by increased demand for IT services and strategic shifts in business focus. Notable companies include Wipro Ltd., Celestica Inc., and TT Electronics Plc, each showing varying degrees of growth and future potential.\n",
      "\n",
      "#### Key Performers\n",
      "\n",
      "1. **Wipro Ltd. (WPRO)**\n",
      "   - **Performance**: Wipro's stock has risen 8.6% this year, reflecting a modest increase in quarterly profits by 2.5% to 16.2 billion rupees ($275 million). The company reported IT services revenue of $1.59 billion, aligning with forecasts.\n",
      "   - **Outlook**: The company anticipates a significant revenue increase in the upcoming quarter, projecting up to $1.65 billion from outsourced software work. However, analysts express caution, maintaining an underperformer rating due to concerns over sustained growth compared to peers.\n",
      "\n",
      "2. **Celestica Inc. (CLS)**\n",
      "   - **Performance**: Celestica's stock surged 31% this year, reaching a two-year high after reporting second-quarter earnings that exceeded estimates. The company posted earnings of 21 cents per share on revenues of $1.5 billion.\n",
      "   - **Outlook**: The company forecasts continued growth, with adjusted earnings expected between 17 to 23 cents per share for the next quarter, driven by strong demand in the communications segment and diversification into defense and industrial sectors.\n",
      "\n",
      "3. **TT Electronics Plc (TTG)**\n",
      "   - **Performance**: TT Electronics has seen an 18% increase in stock value this year, bolstered by a recent upgrade from Goldman Sachs, which raised its price target significantly.\n",
      "   - **Outlook**: Analysts expect modest growth in automotive volumes and further margin expansion due to ongoing restructuring efforts, positioning the company favorably in the market.\n",
      "\n",
      "#### Conclusion\n",
      "The technology sector has shown resilience and growth potential over the past year, with companies like Wipro, Celestica, and TT Electronics leading the way. While Wipro faces challenges in maintaining competitive growth, Celestica and TT Electronics are well-positioned for continued success, driven by strategic shifts and positive market trends. Investors should monitor these stocks for potential opportunities as they navigate the evolving economic landscape.\n",
      "### Research Report: Current Trends in Technology Investments\n",
      "\n",
      "#### Overview\n",
      "Recent trends in technology investments indicate a robust growth trajectory, particularly in sectors driven by emerging technologies and favorable market conditions. Key areas of focus include information technology, social networking, gaming, and e-commerce.\n",
      "\n",
      "#### Key Trends\n",
      "\n",
      "1. **Emerging Technologies**:\n",
      "   - **Artificial Intelligence (AI)** and **Machine Learning** continue to attract significant investment, with companies leveraging these technologies to enhance operational efficiency and customer engagement.\n",
      "   - **Blockchain** technology is gaining traction, particularly in finance and supply chain management, as firms seek to improve transparency and security.\n",
      "\n",
      "2. **Sector Growth**:\n",
      "   - The **Information Technology (IT)** sector is experiencing a resurgence, with companies like Wipro reporting increased demand for IT services. This is attributed to positive macroeconomic developments, particularly in the U.S. market.\n",
      "   - **E-commerce** is projected to grow significantly, driven by increased internet penetration and consumer spending. Reports suggest that Turkey's internet economy could grow at 19% annually, highlighting the potential for e-commerce investments.\n",
      "\n",
      "3. **Initial Public Offerings (IPOs)**:\n",
      "   - Japan is witnessing a surge in IPOs, with a projected 67% increase in listings, primarily from IT, social networking, and gaming firms. This trend reflects a broader optimism in the equity markets, spurred by government policies aimed at economic revitalization.\n",
      "\n",
      "4. **Venture Capital Activity**:\n",
      "   - Venture capital investments are on the rise, particularly in technology startups. The Japan Venture Capital Association notes a growing pipeline of companies preparing for IPOs, indicating strong investor interest in innovative tech firms.\n",
      "\n",
      "5. **Global Investment Landscape**:\n",
      "   - The global technology investment landscape remains competitive, with significant activity in the U.S. and Asia. Companies are increasingly looking to capitalize on technological advancements to drive growth and market share.\n",
      "\n",
      "#### Conclusion\n",
      "The technology investment landscape is characterized by rapid growth in emerging technologies and sectors with high potential. Investors are focusing on IT services, e-commerce, and innovative startups, supported by favorable market conditions and increasing consumer demand. As these trends continue to evolve, they present substantial opportunities for investment and growth in the technology sector.\n",
      "### Research Report: Investment Strategies for the Technology Sector\n",
      "\n",
      "#### Overview\n",
      "Investment strategies in the technology sector can be broadly categorized into growth investing, value investing, and diversification approaches. Each strategy has its unique characteristics and suitability depending on market conditions and investor goals.\n",
      "\n",
      "#### 1. Growth Investing\n",
      "Growth investing focuses on companies expected to grow at an above-average rate compared to their industry or the overall market. In the technology sector, this often includes firms involved in software development, social networking, and gaming. The recent surge in IPOs in Japan, particularly in the tech space, highlights the potential for significant returns in growth-oriented investments. For instance, companies like Broadleaf Co. and Water Direct Corp. are set to capitalize on the optimistic market environment, driven by favorable economic policies.\n",
      "\n",
      "#### 2. Value Investing\n",
      "Value investing involves identifying undervalued companies that are trading for less than their intrinsic values. In the tech sector, this strategy can be challenging due to the rapid pace of innovation and market fluctuations. However, as seen in the past few years, many tech companies were undervalued during economic downturns, presenting opportunities for savvy investors. The focus should be on companies with strong fundamentals that may have been overlooked during market corrections.\n",
      "\n",
      "#### 3. Diversification Approaches\n",
      "Diversification is crucial in mitigating risks associated with sector-specific investments. Investors can achieve diversification by spreading their investments across various technology sub-sectors, such as cybersecurity, cloud computing, and artificial intelligence. This strategy not only reduces exposure to any single company or technology but also capitalizes on the overall growth of the tech industry. For example, venture capital firms are increasingly looking to invest in a mix of clean energy and technology firms, indicating a trend towards diversified portfolios that include tech-related investments.\n",
      "\n",
      "#### Conclusion\n",
      "Investors in the technology sector should consider a blend of growth and value investing strategies while ensuring diversification to manage risks effectively. The current market dynamics, characterized by a rise in IPOs and a focus on innovative technologies, present ample opportunities for both growth and value investors. As the sector continues to evolve, staying informed about market trends and company fundamentals will be essential for successful investment outcomes.\n",
      "### Final Investment Strategy Report: Technology Sector\n",
      "\n",
      "#### Executive Summary\n",
      "The technology sector presents a dynamic landscape for investment, characterized by rapid growth, emerging technologies, and significant market opportunities. This report synthesizes key findings from recent analyses, focusing on current trends, top-performing stocks, risk factors, and recommended investment strategies. \n",
      "\n",
      "#### Key Findings\n",
      "\n",
      "1. **Current Trends**:\n",
      "   - **Emerging Technologies**: AI, machine learning, and blockchain are at the forefront of investment interest, driving operational efficiencies and enhancing security in various sectors.\n",
      "   - **Sector Growth**: The IT sector is rebounding, with companies like Wipro reporting increased demand. E-commerce is also on a growth trajectory, particularly in regions like Turkey, where the internet economy is expected to expand significantly.\n",
      "   - **IPO Activity**: Japan's technology IPO market is booming, with a projected 67% increase in listings, indicating strong investor confidence and a favorable economic environment.\n",
      "\n",
      "2. **Top Performing Stocks**:\n",
      "   - **Wipro Ltd. (WPRO)**: Despite a modest stock increase of 8.6%, Wipro's future revenue projections are promising, although analysts remain cautious about its competitive position.\n",
      "   - **Celestica Inc. (CLS)**: With a 31% stock surge, Celestica is well-positioned for continued growth, driven by strong demand in communications and diversification into defense.\n",
      "   - **TT Electronics Plc (TTG)**: An 18% increase in stock value, supported by positive analyst upgrades, positions TT Electronics favorably for future growth.\n",
      "\n",
      "3. **Risk Assessment**:\n",
      "   - **Market Volatility**: The technology sector is prone to fluctuations influenced by economic conditions and investor sentiment. The recent IPO surge in Japan exemplifies this volatility, which can lead to overvaluation risks.\n",
      "   - **Regulatory Challenges**: Increasing scrutiny from regulators, particularly in Europe and the U.S., poses risks to technology firms, especially those in financial services. Compliance with evolving regulations will be critical for maintaining profitability.\n",
      "\n",
      "#### Recommended Investment Strategies\n",
      "\n",
      "1. **Growth Investing**:\n",
      "   - Focus on companies with high growth potential, particularly in software, social networking, and gaming. The current IPO landscape offers opportunities to invest in innovative firms poised for rapid expansion.\n",
      "\n",
      "2. **Value Investing**:\n",
      "   - Identify undervalued technology companies with strong fundamentals that may have been overlooked during market corrections. This strategy can yield significant returns as market conditions improve.\n",
      "\n",
      "3. **Diversification Approaches**:\n",
      "   - Mitigate risks by diversifying investments across various technology sub-sectors, such as cybersecurity, cloud computing, and AI. This approach not only reduces exposure to individual companies but also capitalizes on the overall growth of the tech industry.\n",
      "\n",
      "#### Conclusion\n",
      "Investing in the technology sector offers substantial opportunities, driven by emerging technologies and favorable market conditions. However, investors must remain vigilant regarding market volatility and regulatory challenges. A balanced investment strategy that incorporates growth and value investing, along with diversification, will be essential for navigating this evolving landscape. Staying informed about market trends and company fundamentals will further enhance the potential for successful investment outcomes in the technology sector.\n"
     ]
    }
   ],
   "source": [
    "# Invoke\n",
    "task = app.invoke(\n",
    "    {\n",
    "        \"messages\": \"I want to invest in the technology sector. Can you please define an investment strategy?\"\n",
    "    }\n",
    ")"
   ]
  },
  {
   "cell_type": "code",
   "execution_count": 28,
   "metadata": {},
   "outputs": [
    {
     "data": {
      "text/markdown": [
       "### Final Investment Strategy Report: Technology Sector\n",
       "\n",
       "#### Executive Summary\n",
       "The technology sector presents a dynamic landscape for investment, characterized by rapid growth, emerging technologies, and significant market opportunities. This report synthesizes key findings from recent analyses, focusing on current trends, top-performing stocks, risk factors, and recommended investment strategies. \n",
       "\n",
       "#### Key Findings\n",
       "\n",
       "1. **Current Trends**:\n",
       "   - **Emerging Technologies**: AI, machine learning, and blockchain are at the forefront of investment interest, driving operational efficiencies and enhancing security in various sectors.\n",
       "   - **Sector Growth**: The IT sector is rebounding, with companies like Wipro reporting increased demand. E-commerce is also on a growth trajectory, particularly in regions like Turkey, where the internet economy is expected to expand significantly.\n",
       "   - **IPO Activity**: Japan's technology IPO market is booming, with a projected 67% increase in listings, indicating strong investor confidence and a favorable economic environment.\n",
       "\n",
       "2. **Top Performing Stocks**:\n",
       "   - **Wipro Ltd. (WPRO)**: Despite a modest stock increase of 8.6%, Wipro's future revenue projections are promising, although analysts remain cautious about its competitive position.\n",
       "   - **Celestica Inc. (CLS)**: With a 31% stock surge, Celestica is well-positioned for continued growth, driven by strong demand in communications and diversification into defense.\n",
       "   - **TT Electronics Plc (TTG)**: An 18% increase in stock value, supported by positive analyst upgrades, positions TT Electronics favorably for future growth.\n",
       "\n",
       "3. **Risk Assessment**:\n",
       "   - **Market Volatility**: The technology sector is prone to fluctuations influenced by economic conditions and investor sentiment. The recent IPO surge in Japan exemplifies this volatility, which can lead to overvaluation risks.\n",
       "   - **Regulatory Challenges**: Increasing scrutiny from regulators, particularly in Europe and the U.S., poses risks to technology firms, especially those in financial services. Compliance with evolving regulations will be critical for maintaining profitability.\n",
       "\n",
       "#### Recommended Investment Strategies\n",
       "\n",
       "1. **Growth Investing**:\n",
       "   - Focus on companies with high growth potential, particularly in software, social networking, and gaming. The current IPO landscape offers opportunities to invest in innovative firms poised for rapid expansion.\n",
       "\n",
       "2. **Value Investing**:\n",
       "   - Identify undervalued technology companies with strong fundamentals that may have been overlooked during market corrections. This strategy can yield significant returns as market conditions improve.\n",
       "\n",
       "3. **Diversification Approaches**:\n",
       "   - Mitigate risks by diversifying investments across various technology sub-sectors, such as cybersecurity, cloud computing, and AI. This approach not only reduces exposure to individual companies but also capitalizes on the overall growth of the tech industry.\n",
       "\n",
       "#### Conclusion\n",
       "Investing in the technology sector offers substantial opportunities, driven by emerging technologies and favorable market conditions. However, investors must remain vigilant regarding market volatility and regulatory challenges. A balanced investment strategy that incorporates growth and value investing, along with diversification, will be essential for navigating this evolving landscape. Staying informed about market trends and company fundamentals will further enhance the potential for successful investment outcomes in the technology sector."
      ],
      "text/plain": [
       "<IPython.core.display.Markdown object>"
      ]
     },
     "execution_count": 28,
     "metadata": {},
     "output_type": "execute_result"
    }
   ],
   "source": [
    "Markdown(task[\"messages\"][-1].content)"
   ]
  }
 ],
 "metadata": {
  "kernelspec": {
   "display_name": ".venv",
   "language": "python",
   "name": "python3"
  },
  "language_info": {
   "codemirror_mode": {
    "name": "ipython",
    "version": 3
   },
   "file_extension": ".py",
   "mimetype": "text/x-python",
   "name": "python",
   "nbconvert_exporter": "python",
   "pygments_lexer": "ipython3",
   "version": "3.13.2"
  }
 },
 "nbformat": 4,
 "nbformat_minor": 2
}
