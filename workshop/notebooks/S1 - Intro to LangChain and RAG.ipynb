{
 "cells": [
  {
   "cell_type": "markdown",
   "metadata": {},
   "source": [
    "### Environment and Global Configuration"
   ]
  },
  {
   "cell_type": "code",
   "execution_count": 67,
   "metadata": {},
   "outputs": [],
   "source": [
    "import os"
   ]
  },
  {
   "cell_type": "code",
   "execution_count": 68,
   "metadata": {},
   "outputs": [],
   "source": [
    "if not os.environ.get(\"OPENAI_API_KEY\"):\n",
    "    raise ValueError(\"Please set OPENAI_API_KEY environment variable\")\n",
    "\n",
    "LLM_MODEL = \"gpt-4o-mini\"\n",
    "LLM_TEMPERATURE = 0"
   ]
  },
  {
   "cell_type": "markdown",
   "metadata": {},
   "source": [
    "## A simple ChatBot"
   ]
  },
  {
   "cell_type": "code",
   "execution_count": 69,
   "metadata": {},
   "outputs": [],
   "source": [
    "from langchain_core.messages import HumanMessage, SystemMessage, ToolMessage\n",
    "from langchain_openai import ChatOpenAI, OpenAIEmbeddings"
   ]
  },
  {
   "cell_type": "markdown",
   "metadata": {},
   "source": [
    "Instanciating a model"
   ]
  },
  {
   "cell_type": "code",
   "execution_count": 70,
   "metadata": {},
   "outputs": [],
   "source": [
    "base_model = ChatOpenAI(model=LLM_MODEL, temperature=LLM_TEMPERATURE)"
   ]
  },
  {
   "cell_type": "markdown",
   "metadata": {},
   "source": [
    "A System Prompt and a query"
   ]
  },
  {
   "cell_type": "code",
   "execution_count": 71,
   "metadata": {},
   "outputs": [],
   "source": [
    "BASE_PROMPT = \"\"\"\n",
    "You are a Financial Analyst. Do your best to help the client with their request based on your expertise. Give a succinct and clear response.\n",
    "\"\"\""
   ]
  },
  {
   "cell_type": "code",
   "execution_count": 72,
   "metadata": {},
   "outputs": [],
   "source": [
    "request = \"I want to invest in the tech sector. What are the best options?\"\n",
    "\n",
    "response = base_model.invoke(\n",
    "    [\n",
    "        SystemMessage(BASE_PROMPT),\n",
    "        HumanMessage(request),\n",
    "    ]\n",
    ")"
   ]
  },
  {
   "cell_type": "code",
   "execution_count": 74,
   "metadata": {},
   "outputs": [
    {
     "data": {
      "text/markdown": [
       "Investing in the tech sector can be a great opportunity due to its growth potential. Here are some options to consider:\n",
       "\n",
       "1. **Tech ETFs**: Exchange-Traded Funds like the Invesco QQQ Trust (QQQ) or the Technology Select Sector SPDR Fund (XLK) provide diversified exposure to a range of tech companies.\n",
       "\n",
       "2. **Large Cap Tech Stocks**: Consider investing in established companies such as Apple (AAPL), Microsoft (MSFT), Amazon (AMZN), and Alphabet (GOOGL). These companies have strong fundamentals and a history of growth.\n",
       "\n",
       "3. **Emerging Tech Stocks**: Look into smaller companies or startups in areas like artificial intelligence, cybersecurity, or cloud computing. Stocks like Palantir Technologies (PLTR) or CrowdStrike (CRWD) may offer high growth potential.\n",
       "\n",
       "4. **Venture Capital or Private Equity**: If you have a higher risk tolerance, consider investing in venture capital funds that focus on tech startups.\n",
       "\n",
       "5. **Sector-Specific Funds**: Mutual funds that focus on technology, such as the T. Rowe Price Global Technology Fund, can provide professional management and diversification.\n",
       "\n",
       "6. **REITs in Tech**: Real Estate Investment Trusts that focus on data centers or tech infrastructure, like Digital Realty (DLR), can be a way to invest in the tech sector indirectly.\n",
       "\n",
       "Before investing, assess your risk tolerance, investment horizon, and do thorough research or consult with a financial advisor to tailor your investment strategy."
      ],
      "text/plain": [
       "<IPython.core.display.Markdown object>"
      ]
     },
     "execution_count": 74,
     "metadata": {},
     "output_type": "execute_result"
    }
   ],
   "source": [
    "Markdown(response.content)"
   ]
  },
  {
   "cell_type": "markdown",
   "metadata": {},
   "source": [
    "## Retrieval Augmented Generation (RAG)"
   ]
  },
  {
   "cell_type": "code",
   "execution_count": 75,
   "metadata": {},
   "outputs": [],
   "source": [
    "import pickle\n",
    "\n",
    "from IPython.display import Markdown\n",
    "from langchain_chroma import Chroma\n",
    "from langchain_core.documents import Document"
   ]
  },
  {
   "cell_type": "code",
   "execution_count": 76,
   "metadata": {},
   "outputs": [],
   "source": [
    "EMBEDDING_MODEL = \"text-embedding-3-small\"\n",
    "RETRIEVAL_K = 3"
   ]
  },
  {
   "cell_type": "markdown",
   "metadata": {},
   "source": [
    "### Vector Database and Retrieval"
   ]
  },
  {
   "cell_type": "markdown",
   "metadata": {},
   "source": [
    "Some utility functions for document handling"
   ]
  },
  {
   "cell_type": "code",
   "execution_count": 77,
   "metadata": {},
   "outputs": [],
   "source": [
    "def load_documents(pickle_filepath: str) -> list[Document]:\n",
    "    \"\"\"Load documents from a pickle file.\"\"\"\n",
    "    with open(pickle_filepath, \"rb\") as file:\n",
    "        return pickle.load(file)\n",
    "\n",
    "\n",
    "def initialize_vector_store(document_chunks: list[Document]) -> Chroma:\n",
    "    \"\"\"Reset the Chroma collection and initialize a vector store using document chunks.\"\"\"\n",
    "    Chroma().reset_collection()\n",
    "    embedding_model = OpenAIEmbeddings(model=EMBEDDING_MODEL)\n",
    "    return Chroma.from_documents(documents=document_chunks, embedding=embedding_model)"
   ]
  },
  {
   "cell_type": "markdown",
   "metadata": {},
   "source": [
    "Load documents from pickle file"
   ]
  },
  {
   "cell_type": "code",
   "execution_count": 78,
   "metadata": {},
   "outputs": [],
   "source": [
    "data_dir = \"../data/\"\n",
    "data_file = \"bloomberg_financial_news.pkl\"\n",
    "\n",
    "documents = load_documents(os.path.join(data_dir, data_file))"
   ]
  },
  {
   "cell_type": "markdown",
   "metadata": {},
   "source": [
    "An example document"
   ]
  },
  {
   "cell_type": "code",
   "execution_count": 79,
   "metadata": {},
   "outputs": [
    {
     "data": {
      "text/plain": [
       "{'Headline': 'Cameron Wants Access to ‘Depraved’ Child Abuse Websites Blocked',\n",
       " 'Link': 'http://www.bloomberg.com/news/2013-07-21/cameron-wants-access-to-depraved-child-abuse-websites-blocked.html'}"
      ]
     },
     "execution_count": 79,
     "metadata": {},
     "output_type": "execute_result"
    }
   ],
   "source": [
    "# TODO: change example doc for something more neutral\n",
    "documents[0].metadata"
   ]
  },
  {
   "cell_type": "code",
   "execution_count": 81,
   "metadata": {},
   "outputs": [
    {
     "data": {
      "text/markdown": [
       "Internet companies need to act to block access to “depraved and disgusting” child abuse images or face legal controls, British Prime Minister David Cameron will say. “We need to have very, very strong conversations with those companies about saying ‘No, you shouldn’t provide results for some terms that are so depraved and disgusting,’” Cameron will say in an interview to be broadcast by the British Broadcasting Corp. today “I think there’s going to be a big argument there, and if we don’t get what we need we’ll have to look at legislation.” He said the extra steps he favors represents “an argument on behalf of Britain’s parents and children I’m prepared to have.” During his interview on the “Andrew Marr” program, Cameron also said he would like to see more restrictions on access to legal pornography that can be seen online by children. “There are rules about what films you can see in a cinema, what age you have to be to buy alcohol or cigarettes,” Cameron will say, according to a transcript of the interview provided by the BBC. “But on the internet, there aren’t those rules, so we need to help parents with control.”"
      ],
      "text/plain": [
       "<IPython.core.display.Markdown object>"
      ]
     },
     "execution_count": 81,
     "metadata": {},
     "output_type": "execute_result"
    }
   ],
   "source": [
    "Markdown(documents[0].page_content)"
   ]
  },
  {
   "cell_type": "markdown",
   "metadata": {},
   "source": [
    "Initialize vector store and create a retriever."
   ]
  },
  {
   "cell_type": "code",
   "execution_count": 82,
   "metadata": {},
   "outputs": [],
   "source": [
    "vector_store = initialize_vector_store(documents[:1000])\n",
    "retriever = vector_store.as_retriever(search_kwargs={\"k\": RETRIEVAL_K})"
   ]
  },
  {
   "cell_type": "markdown",
   "metadata": {},
   "source": [
    "Retrieve documents"
   ]
  },
  {
   "cell_type": "code",
   "execution_count": 83,
   "metadata": {},
   "outputs": [
    {
     "data": {
      "text/plain": [
       "[Document(id='e1c6af54-7357-4923-bf07-265d81de5f35', metadata={'Headline': 'Japan’s IPOs to Jump 67% on Abenomics Rally, Adachi Says', 'Link': 'http://www.bloomberg.com/news/2013-03-11/japan-s-ipos-to-jump-67-on-abenomics-rally-adachi-says.html'}, page_content='Initial public offerings in Japan may jump 67 percent this year as Prime Minister Shinzo Abe’s policies boost stock prices and make it easier to sell shares, according to the Japan Venture Capital Association. New listings may rise to 80 this year from 48 in 2012, association chairman Toshihisa Adachi said. Information technology , social networking and gaming firms will make up most of the offerings, he said, without naming specific companies. Broadleaf Co., a software developer , and Water Direct Corp. (2588) , a drinking water delivery service, are among 10 companies scheduled to list in the next month amid a share rally that has boosted the Nikkei 225 Stock Average 38 percent since the end of October. IPOs have increased every year since 2009, when they fell below 20 to the lowest in at least 15 years amid the financial crisis, according to data compiled by Bloomberg. “Japan’s strong equity market, boosted by optimism surrounding Abenomics, is definitely having a huge impact on the IPO market,” said Adachi in an interview. “In the past three to four years, companies with potential were largely undervalued by the market due to the tough environment.” Fourteen companies announced IPOs this year through yesterday in Japan including Kyoritsu Computer & Communications Co., a system solution provider, and drugmaker Medrx Co. Shares have rallied amid optimism Abe will take steps to end deflation. Eight IPOs have been announced this year in Hong Kong and 79 in the U.S. Softmax Listed Softmax Co. (3671) , a system software provider, was listed on the Tokyo Stock Exchange’s Mothers market today. It was untraded and poised to rise as buy orders outnumbered sell orders. The stock was bid at 2,600 yen as of 1:29 p.m. today, compared with its IPO price of 1,300 yen. Adachi is also chief executive officer of Itochu Technology Ventures Inc., an arm of Japan’s third-largest trading house that bought shares in Start Today Co. and online brokerage Kabu.Com Securities Co. before they went public. The venture capital firm has invested in 57 companies, according to its website. The Japan Venture Capital Association promotes start-ups through research, seminars, and collaboration with stock exchanges and government organizations, its website says. “The pipeline is continuing to increase, as if a levee broke,” Adachi said. “In two to three years, the number of IPOs will probably recover to about 100.”'),\n",
       " Document(id='12aa0377-3d4e-416a-bf88-3049dfa500b3', metadata={'Headline': 'Wipro Quarterly Profit Rises 2.5% on Outsourcing Demand', 'Link': 'http://www.bloomberg.com/news/2013-07-26/wipro-profit-rises-2-5-on-higher-outsourcing-demand.html'}, page_content='Wipro Ltd. (WPRO) , India ’s third-largest software exporter, reported first-quarter profit rose 2.5 percent as demand for information-technology services increased. Net income rose to 16.2 billion rupees ($275 million) in the three months ended June, matching the median of 38 analysts’s estimate compiled by Bloomberg. The Bangalore-based company posted sales of 97.3 billion rupees, that missed the 99.3 billion-rupee median of analysts’ estimates. Wipro’s revenue from information-technology services matched the forecast range it provided in April. Billionaire Chairman Azim Premji said the company is seeing higher confidence among its customers amid “positive macroeconomic developments,” particularly in the U.S. -- its biggest market. Wipro joins larger rival Tata Consultancy Services Ltd. (TCS) in signaling higher demand for outsourced software work by forecasting revenue from the business to rise as much as $1.65 billion in the quarter ending September. “The guidance is a significant jump over this quarter’s expectations,” said Amar Mourya, a Mumbai-based analyst with India Nivesh Securities. “That could lead to a re-rating and revision in the full-year stock price” target, he said. The forecast for IT revenue in the second quarter is based on 57.24 rupees to a U.S. dollar, the company said in a statement yesterday. Meeting Forecast Its revenue from IT services increased to $1.59 billion in the quarter ended June, in line with its April forecast of $1.575 billion to $1.61 billion for the period. Shares of Wipro rose 1.5 percent to 381.95 rupees at the close in Mumbai trading before the earnings announcement yesterday. The stock has climbed 8.6 percent this year, compared with a 1.7 percent advance in the S&P BSE Sensex. Salary increases to its employees squeezed operating margins in the quarter, according to Chief Financial Officer Suresh Senapaty. “We continue to maintain our sector underperformer call on Wipro owing to its dismal performance and sustained underperformace,” Rahul Jain, an analyst with Mumbai-based Dolat Capital Market Pvt. said in a note yesterday. “We believe that stock would deliver lower growth compared to peers.” The company added 28 new customers in the quarter, it said. Wipro added 1,469 people in the period, bringing the total number of employees to 147,281. “We are seeing a pickup in large deal closures which has reflected in strong order book in the current quarter,” T.K. Kurien, chief executive officer, said in the statement.'),\n",
       " Document(id='550228c8-442b-4f07-8f3f-f53a49ed44df', metadata={'Headline': 'Google-Backed Report Says Turkey’s Online Business Will Surge', 'Link': 'http://www.bloomberg.com/news/2013-03-11/google-backed-report-says-turkey-s-online-business-will-surge.html'}, page_content='Turkey’s Internet economy will probably grow at 19 percent a year until 2017 as Turkish companies embrace Web-based business, according to a report sponsored by Google Inc. (GOOG)  Turkey’s Internet economy will grow to 2.6 percent of gross domestic product, or 64.3 billion liras ($35.7 billion), by 2017 from 1.7 percent and 22 billion liras in 2011, Boston Consulting Group Inc. said in the report. In 2011, Turkish consumers spent about 8.8 billion liras on Internet access and charges, and more than 4.4 billion liras on e-commerce. “Consumption is expected to be the largest driver of growth, primarily through an increase in e-commerce following a rise in broadband and Internet user penetration,” according to the report. In a more optimistic case, with broadband penetration and smartphone retailing at the upper end of expectations, the figure in 2017 may reach 76.4 billion liras, or 3 percent of GDP, similar to current levels in Germany or France , according to the report. About 47 percent of people in Turkey use the Internet, less than the European Union level of 71 percent, the report showed.')]"
      ]
     },
     "execution_count": 83,
     "metadata": {},
     "output_type": "execute_result"
    }
   ],
   "source": [
    "retriever.invoke(\"tech sector market trends\")"
   ]
  },
  {
   "cell_type": "markdown",
   "metadata": {},
   "source": [
    "### Augmented LLM"
   ]
  },
  {
   "cell_type": "markdown",
   "metadata": {},
   "source": [
    "### Creating a tool"
   ]
  },
  {
   "cell_type": "markdown",
   "metadata": {},
   "source": [
    "Create retrieval tool"
   ]
  },
  {
   "cell_type": "code",
   "execution_count": 84,
   "metadata": {},
   "outputs": [],
   "source": [
    "from langchain_core.tools import tool\n",
    "\n",
    "\n",
    "@tool\n",
    "def retrieval(retrieval_query: str) -> list[Document]:\n",
    "    \"\"\"Retrieve documents based on a query.\"\"\"\n",
    "    return retriever.invoke(retrieval_query)"
   ]
  },
  {
   "cell_type": "markdown",
   "metadata": {},
   "source": [
    "Biding to tool"
   ]
  },
  {
   "cell_type": "code",
   "execution_count": 86,
   "metadata": {},
   "outputs": [],
   "source": [
    "RAG_PROMPT = \"\"\"\n",
    "You are a Financial Analyst with access to a Bloomberg Financial News database.\n",
    "\n",
    "Query the database to help the client with their request. Give a succinct and clear response based on the information you find.\n",
    "\"\"\"\n",
    "\n",
    "tools = [retrieval]\n",
    "tools_by_name = {tool.name: tool for tool in tools}\n",
    "rag_model = base_model.bind_tools(tools)"
   ]
  },
  {
   "cell_type": "code",
   "execution_count": 87,
   "metadata": {},
   "outputs": [],
   "source": [
    "request = \"I want to invest in the tech sector. What are the best options?\"\n",
    "\n",
    "rag_response = rag_model.invoke(\n",
    "    [\n",
    "        SystemMessage(RAG_PROMPT),\n",
    "        HumanMessage(request),\n",
    "    ]\n",
    ")"
   ]
  },
  {
   "cell_type": "code",
   "execution_count": 88,
   "metadata": {},
   "outputs": [
    {
     "data": {
      "text/plain": [
       "[{'name': 'retrieval',\n",
       "  'args': {'retrieval_query': 'best investment options in tech sector 2023'},\n",
       "  'id': 'call_pzbGO0L9Cj1dFARdu6dYL694',\n",
       "  'type': 'tool_call'}]"
      ]
     },
     "execution_count": 88,
     "metadata": {},
     "output_type": "execute_result"
    }
   ],
   "source": [
    "rag_response.tool_calls"
   ]
  },
  {
   "cell_type": "markdown",
   "metadata": {},
   "source": [
    "Query the tool"
   ]
  },
  {
   "cell_type": "code",
   "execution_count": 89,
   "metadata": {},
   "outputs": [],
   "source": [
    "if rag_response.tool_calls:\n",
    "    tool_call = rag_response.tool_calls[0]\n",
    "    tool = tools_by_name[tool_call[\"name\"]]\n",
    "    documents = tool.invoke(tool_call[\"args\"])"
   ]
  },
  {
   "cell_type": "code",
   "execution_count": 90,
   "metadata": {},
   "outputs": [],
   "source": [
    "documents_str = \"\\n\\n\".join(\n",
    "    [f\"{doc.metadata['Headline']}\\n\\n{doc.page_content}\\n\" for doc in documents]\n",
    ")"
   ]
  },
  {
   "cell_type": "code",
   "execution_count": 91,
   "metadata": {},
   "outputs": [
    {
     "data": {
      "text/markdown": [
       "Japan’s IPOs to Jump 67% on Abenomics Rally, Adachi Says\n",
       "\n",
       "Initial public offerings in Japan may jump 67 percent this year as Prime Minister Shinzo Abe’s policies boost stock prices and make it easier to sell shares, according to the Japan Venture Capital Association. New listings may rise to 80 this year from 48 in 2012, association chairman Toshihisa Adachi said. Information technology , social networking and gaming firms will make up most of the offerings, he said, without naming specific companies. Broadleaf Co., a software developer , and Water Direct Corp. (2588) , a drinking water delivery service, are among 10 companies scheduled to list in the next month amid a share rally that has boosted the Nikkei 225 Stock Average 38 percent since the end of October. IPOs have increased every year since 2009, when they fell below 20 to the lowest in at least 15 years amid the financial crisis, according to data compiled by Bloomberg. “Japan’s strong equity market, boosted by optimism surrounding Abenomics, is definitely having a huge impact on the IPO market,” said Adachi in an interview. “In the past three to four years, companies with potential were largely undervalued by the market due to the tough environment.” Fourteen companies announced IPOs this year through yesterday in Japan including Kyoritsu Computer & Communications Co., a system solution provider, and drugmaker Medrx Co. Shares have rallied amid optimism Abe will take steps to end deflation. Eight IPOs have been announced this year in Hong Kong and 79 in the U.S. Softmax Listed Softmax Co. (3671) , a system software provider, was listed on the Tokyo Stock Exchange’s Mothers market today. It was untraded and poised to rise as buy orders outnumbered sell orders. The stock was bid at 2,600 yen as of 1:29 p.m. today, compared with its IPO price of 1,300 yen. Adachi is also chief executive officer of Itochu Technology Ventures Inc., an arm of Japan’s third-largest trading house that bought shares in Start Today Co. and online brokerage Kabu.Com Securities Co. before they went public. The venture capital firm has invested in 57 companies, according to its website. The Japan Venture Capital Association promotes start-ups through research, seminars, and collaboration with stock exchanges and government organizations, its website says. “The pipeline is continuing to increase, as if a levee broke,” Adachi said. “In two to three years, the number of IPOs will probably recover to about 100.”\n",
       "\n",
       "\n",
       "Indian Stocks Retreat, End Four-Day Advance; Hero Leads Decline\n",
       "\n",
       "Indian (SENSEX) stocks fell for the first time in five days as some investors judged last week’s rally may have outpaced the outlook for interest rate cuts by the central bank. The S&P BSE Sensex lost 0.4 percent to 19,608.76 at the 3:30 p.m. preliminary close in Mumbai. Volumes on the measure were 15 percent below the 30-day average. Hero Motocorp Ltd. (HMCL) , India biggest motorcycle maker, fell for the first time in five days. Tata Consultancy Services Ltd. (TCS) , India’s largest software services exporter, paced decline among its peers. The Sensex jumped 4 percent last week, its steepest weekly gain since November, amid speculation the Reserve Bank of India will cut interest rates at its policy review on March 19. That pushed the gauge’s valuation to 13.8 times projected 12-month profits , compared with 13.3 times at the end of February, data compiled by Bloomberg show. “Valuations have gone up again as expectations of a rate cut is getting built in,” Mehraboon Jamshed Irani, principal and head of private client group at Nirmal Bang Securities in Mumbai, told Bloomberg TV India today. The Sensex fell for five straight weeks through March 1, reaching a three-month low on Feb. 28, as profits at companies from Tata Motors (TTMT) to State Bank of India trailed estimates for the December quarter and a government report showed that the pace of the economic growth in the final three months of 2012 was the weakest in almost four years. Overseas funds bought a net $127 million worth of stocks on March 7, taking their net investment in local equities this year to $8.73 billion, a record for the period, data compiled by Bloomberg show. They bought a net $24.5 billion worth of shares last year, the most among 10 Asian markets tracked by Bloomberg.\n",
       "\n",
       "\n",
       "Apple Will Announce Plans for Cash Hoard, Gamco Says: Tom Keene\n",
       "\n",
       "Apple Inc. (AAPL) will outline what it plans to do with a growing pile of cash by next month, according to Howard Ward, chief investment officer at Gamco Investors Inc. (GBL)  Apple, which has been grappling with investor criticism over the handling of its $137.1 billion in cash and investments , will add $42 billion in earnings to that sum in 2013, Ward said. Greenlight Capital Inc.’s David Einhorn has been urging Cupertino, California-based Apple to issue high-yielding preferred shares to spread the funds among investors. Investors are also urging Apple to consider a higher dividend payout. “We’re going to get an announcement from the company as to how they intend to reallocate some of their cash,” Ward said in an interview today on Bloomberg Radio ’s “Surveillance” with Tom Keene. “They will put a floor under their stock at a higher price than it is today.” Apple climbed 1.4 percent to $437.87 at the close in New York, leaving the shares down 18 percent this year, compared with an 9.1 percent increase in the S&P 500 Index. Keith Goddard , president of Capital Advisors Inc., said Apple will probably announce a dividend or buyback by the end of the year, possibly as early as April, when the company is scheduled to release second-quarter earnings. “It really is mind-boggling to me that they’re being so stubborn about sitting on so much cash,” said Goddard, who said his firm owns 23,100 Apple shares. Apple has said it’s in active discussions over how to manage the cash, and that it’s considering buybacks, a bigger dividend among other options. Ward compared Apple’s shares to JPMorgan Chase & Co. (JPM) stock a year ago, after the bank announced a multibillion-dollar loss at the hands of one trader. “The stock was beaten up and it was at 30 dollars a share, and now it’s 50,” he said. Apple is the largest holding in Gamco’s (GBL) fund, Ward said.\n"
      ],
      "text/plain": [
       "<IPython.core.display.Markdown object>"
      ]
     },
     "execution_count": 91,
     "metadata": {},
     "output_type": "execute_result"
    }
   ],
   "source": [
    "Markdown(documents_str)"
   ]
  },
  {
   "cell_type": "markdown",
   "metadata": {},
   "source": [
    "Invoke the base model to avoid repeated queries"
   ]
  },
  {
   "cell_type": "code",
   "execution_count": 93,
   "metadata": {},
   "outputs": [],
   "source": [
    "response = base_model.invoke(\n",
    "    [\n",
    "        SystemMessage(RAG_PROMPT),\n",
    "        HumanMessage(request),\n",
    "        rag_response,\n",
    "        ToolMessage(content=documents_str, tool_call_id=tool_call[\"id\"]),\n",
    "    ]\n",
    ")"
   ]
  },
  {
   "cell_type": "code",
   "execution_count": 94,
   "metadata": {},
   "outputs": [
    {
     "data": {
      "text/markdown": [
       "For investing in the tech sector, consider the following options based on recent trends and developments:\n",
       "\n",
       "1. **Initial Public Offerings (IPOs)**: The tech sector is seeing a surge in IPOs, particularly in Japan, where companies in information technology, social networking, and gaming are expected to dominate new listings. Notable upcoming IPOs include Broadleaf Co. and Water Direct Corp.\n",
       "\n",
       "2. **Established Tech Giants**: Companies like Apple Inc. (AAPL) are also worth considering. Apple is expected to announce plans for its substantial cash reserves, which could include dividends or stock buybacks, potentially boosting its stock price.\n",
       "\n",
       "3. **Emerging Markets**: Look into tech firms in emerging markets, such as Tata Consultancy Services Ltd. (TCS) in India, which is a major player in software services.\n",
       "\n",
       "4. **Venture Capital Investments**: Consider investing in venture capital funds that focus on tech startups, as they are likely to benefit from the growing IPO market and innovation in the sector.\n",
       "\n",
       "These options reflect a mix of established companies and emerging opportunities, providing a balanced approach to investing in the tech sector."
      ],
      "text/plain": [
       "<IPython.core.display.Markdown object>"
      ]
     },
     "execution_count": 94,
     "metadata": {},
     "output_type": "execute_result"
    }
   ],
   "source": [
    "Markdown(response.content)"
   ]
  }
 ],
 "metadata": {
  "kernelspec": {
   "display_name": ".venv",
   "language": "python",
   "name": "python3"
  },
  "language_info": {
   "codemirror_mode": {
    "name": "ipython",
    "version": 3
   },
   "file_extension": ".py",
   "mimetype": "text/x-python",
   "name": "python",
   "nbconvert_exporter": "python",
   "pygments_lexer": "ipython3",
   "version": "3.13.2"
  }
 },
 "nbformat": 4,
 "nbformat_minor": 2
}
