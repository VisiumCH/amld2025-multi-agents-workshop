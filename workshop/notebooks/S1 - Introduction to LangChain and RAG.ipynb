{
 "cells": [
  {
   "cell_type": "markdown",
   "metadata": {},
   "source": [
    "# Introduction to LangChain and RAG"
   ]
  },
  {
   "cell_type": "markdown",
   "metadata": {},
   "source": [
    "Welcome to the first part of our workshop! In this session, we'll explore how to build AI-powered applications using **LangChain**, a popular framework for developing applications with Large Language Models (LLMs). We'll start with a simple chatbot and then enhance it with Retrieval Augmented Generation (RAG)."
   ]
  },
  {
   "cell_type": "markdown",
   "metadata": {},
   "source": [
    "## Setting Up Our Environment"
   ]
  },
  {
   "cell_type": "markdown",
   "metadata": {},
   "source": [
    "First, we need to set up our environment. We'll use OpenAI's models, so we need an API key. You can define your `OPENAI_API_KEY` in the `.env` file.\n",
    "\n",
    "The code retrieve the key and sets some global configurations:\n",
    "- `LLM_MODEL`: The specific model we'll use\n",
    "- `LLM_TEMPERATURE`: Controls randomness in responses (0 means very deterministic)"
   ]
  },
  {
   "cell_type": "code",
   "execution_count": 1,
   "metadata": {},
   "outputs": [],
   "source": [
    "import os\n",
    "\n",
    "if not os.environ.get(\"OPENAI_API_KEY\"):\n",
    "    raise ValueError(\"Please set OPENAI_API_KEY environment variable\")\n",
    "\n",
    "LLM_MODEL = \"gpt-4o-mini\"\n",
    "LLM_TEMPERATURE = 0"
   ]
  },
  {
   "cell_type": "markdown",
   "metadata": {},
   "source": [
    "## Building a Simple ChatBot"
   ]
  },
  {
   "cell_type": "markdown",
   "metadata": {},
   "source": [
    "Let's start with creating a basic chatbot using **LangChain**. We'll use:\n",
    "- `ChatOpenAI`: The interface to OpenAI's chat models\n",
    "- `SystemMessage`: Defines the bot's behavior and role\n",
    "- `HumanMessage`: Represents user input\n",
    "\n",
    "Our chatbot will act as a Financial Analyst. We'll create it by:\n",
    "1. Instantiating the model\n",
    "2. Defining a system prompt that sets the bot's role\n",
    "3. Sending a user query and getting a response with `.invoke()`\n",
    "\n",
    "This demonstrates the basic pattern of LLM interactions: prompt → response."
   ]
  },
  {
   "cell_type": "code",
   "execution_count": 2,
   "metadata": {},
   "outputs": [],
   "source": [
    "from IPython.display import Markdown\n",
    "from langchain_core.messages import HumanMessage, SystemMessage\n",
    "from langchain_openai import ChatOpenAI"
   ]
  },
  {
   "cell_type": "code",
   "execution_count": 3,
   "metadata": {},
   "outputs": [],
   "source": [
    "base_model = ChatOpenAI(model=LLM_MODEL, temperature=LLM_TEMPERATURE)"
   ]
  },
  {
   "cell_type": "code",
   "execution_count": 4,
   "metadata": {},
   "outputs": [],
   "source": [
    "BASE_PROMPT = \"\"\"\n",
    "You are a Financial Analyst. Do your best to help the client with their request based on your expertise. Give a succinct and clear response.\n",
    "\"\"\""
   ]
  },
  {
   "cell_type": "code",
   "execution_count": 5,
   "metadata": {},
   "outputs": [],
   "source": [
    "request = \"I want to invest in the tech sector. What are the best options?\"\n",
    "\n",
    "response = base_model.invoke(\n",
    "    [\n",
    "        SystemMessage(BASE_PROMPT),\n",
    "        HumanMessage(request),\n",
    "    ]\n",
    ")"
   ]
  },
  {
   "cell_type": "code",
   "execution_count": 6,
   "metadata": {},
   "outputs": [
    {
     "data": {
      "text/markdown": [
       "Investing in the tech sector can be a great opportunity, given its growth potential. Here are some options to consider:\n",
       "\n",
       "1. **Tech ETFs**: Exchange-Traded Funds like the Invesco QQQ Trust (QQQ) or the Technology Select Sector SPDR Fund (XLK) provide diversified exposure to a range of tech companies.\n",
       "\n",
       "2. **Large Cap Tech Stocks**: Consider investing in established companies like Apple (AAPL), Microsoft (MSFT), Amazon (AMZN), and Alphabet (GOOGL). These companies have strong fundamentals and a history of growth.\n",
       "\n",
       "3. **Emerging Tech Companies**: Look into smaller, high-growth companies in areas like cloud computing, artificial intelligence, and cybersecurity. Examples include companies like Snowflake (SNOW) or CrowdStrike (CRWD).\n",
       "\n",
       "4. **Venture Capital or Private Equity**: If you have a higher risk tolerance, consider investing in venture capital funds that focus on early-stage tech startups.\n",
       "\n",
       "5. **Sector-Specific Funds**: Look for mutual funds or ETFs that focus on specific tech sub-sectors, such as semiconductors (e.g., VanEck Vectors Semiconductor ETF - SMH) or fintech.\n",
       "\n",
       "6. **REITs in Tech**: Real Estate Investment Trusts that focus on data centers or cell towers, like Digital Realty (DLR) or American Tower (AMT), can provide exposure to the tech infrastructure.\n",
       "\n",
       "Before investing, assess your risk tolerance, investment horizon, and conduct thorough research or consult with a financial advisor."
      ],
      "text/plain": [
       "<IPython.core.display.Markdown object>"
      ]
     },
     "execution_count": 6,
     "metadata": {},
     "output_type": "execute_result"
    }
   ],
   "source": [
    "Markdown(response.content)"
   ]
  },
  {
   "cell_type": "markdown",
   "metadata": {},
   "source": [
    "## Understanding Retrieval Augmented Generation (RAG)"
   ]
  },
  {
   "cell_type": "markdown",
   "metadata": {},
   "source": [
    "Now comes the exciting part! RAG is a technique that enhances LLM responses by giving them access to external knowledge. Instead of relying solely on the model's training data, we can provide relevant information from our own database."
   ]
  },
  {
   "cell_type": "markdown",
   "metadata": {},
   "source": [
    "### Vector Database Setup"
   ]
  },
  {
   "cell_type": "markdown",
   "metadata": {},
   "source": [
    "To implement RAG, we need:\n",
    "1. A collection of documents (in our case, a currated set of 1'000 articles from Bloomberg financial news)\n",
    "2. A way to search these documents efficiently (vector database)\n",
    "3. A method to retrieve relevant information based on queries\n",
    "\n",
    "Here we use:\n",
    "- `Chroma`: A vector database for storing and retrieving documents\n",
    "- `OpenAIEmbeddings`: Converts text into vector representations"
   ]
  },
  {
   "cell_type": "markdown",
   "metadata": {},
   "source": [
    "Let's first set up the global configuration for our retriever."
   ]
  },
  {
   "cell_type": "code",
   "execution_count": 7,
   "metadata": {},
   "outputs": [],
   "source": [
    "EMBEDDING_MODEL = \"text-embedding-3-small\"\n",
    "RETRIEVAL_K = 3"
   ]
  },
  {
   "cell_type": "markdown",
   "metadata": {},
   "source": [
    "We'll then define helper methods to load our documents and store them in a vector store."
   ]
  },
  {
   "cell_type": "code",
   "execution_count": 8,
   "metadata": {},
   "outputs": [],
   "source": [
    "import pickle\n",
    "\n",
    "from langchain_chroma import Chroma\n",
    "from langchain_core.documents import Document\n",
    "from langchain_openai import OpenAIEmbeddings\n",
    "\n",
    "\n",
    "def load_documents(pickle_filepath: str) -> list[Document]:\n",
    "    \"\"\"Load documents from a pickle file.\"\"\"\n",
    "    with open(pickle_filepath, \"rb\") as file:\n",
    "        return pickle.load(file)\n",
    "\n",
    "\n",
    "def initialize_vector_store(document_chunks: list[Document]) -> Chroma:\n",
    "    \"\"\"Reset the Chroma collection and initialize a vector store using document chunks.\"\"\"\n",
    "    Chroma().reset_collection()\n",
    "    embedding_model = OpenAIEmbeddings(model=EMBEDDING_MODEL)\n",
    "    return Chroma.from_documents(documents=document_chunks, embedding=embedding_model)"
   ]
  },
  {
   "cell_type": "markdown",
   "metadata": {},
   "source": [
    "Let's load our documents and inspect the first one."
   ]
  },
  {
   "cell_type": "code",
   "execution_count": 9,
   "metadata": {},
   "outputs": [],
   "source": [
    "data_dir = \"../data/\"\n",
    "data_file = \"bloomberg_financial_news_1k.pkl\"\n",
    "\n",
    "documents = load_documents(os.path.join(data_dir, data_file))"
   ]
  },
  {
   "cell_type": "code",
   "execution_count": 10,
   "metadata": {},
   "outputs": [
    {
     "data": {
      "text/markdown": [
       "Kuwait Wealth Fund Doubles Investments in U.K. to $24 Billion\n",
       "\n",
       "Kuwait Investment Authority , the country’s sovereign wealth fund, doubled investments in the U.K. over the last 10 years to more than $24 billion. Investment in Britain was “across all asset classes, sectors and industries,” Managing Director Bader Al-Saad said in a speech in London on June 28. Kuwait Investment Office, the KIA’s London-based investment arm, now manages more than $120 billion globally compared with $27 billion 10 years ago. “Alongside the real estate subsidiary, which manages our real estate assets, we have set up an infrastructure fund which we are operating from London,” Al-Saad said. The investment office “will be looking to manage more funds, in more asset classes, and in more regions of the world in the near future,” he said. The KIA, which has about $342 billion of assets according to the Sovereign Wealth Fund Institute in California , holds stakes in Daimler AG and BP Plc. (BP/) The fund manages Kuwait’s General Reserve Fund and Future Generations Fund, and invests in local, Arab and international markets."
      ],
      "text/plain": [
       "<IPython.core.display.Markdown object>"
      ]
     },
     "execution_count": 10,
     "metadata": {},
     "output_type": "execute_result"
    }
   ],
   "source": [
    "doc_str = f\"{documents[0].metadata['Headline']}\\n\\n{documents[0].page_content}\"\n",
    "Markdown(doc_str)"
   ]
  },
  {
   "cell_type": "markdown",
   "metadata": {},
   "source": [
    "### Initializing the Vector Store and the Retriever"
   ]
  },
  {
   "cell_type": "markdown",
   "metadata": {},
   "source": [
    "The vector store and retriever are key components of our RAG system. Here's what happens in this section:\n",
    "\n",
    "- Initialize a new Chroma vector store with these documents\n",
    "- Create a retriever that will fetch the `RETRIEVAL_K` most relevant documents according to their embedding"
   ]
  },
  {
   "cell_type": "code",
   "execution_count": 11,
   "metadata": {},
   "outputs": [],
   "source": [
    "vector_store = initialize_vector_store(documents)\n",
    "retriever = vector_store.as_retriever(search_kwargs={\"k\": RETRIEVAL_K})"
   ]
  },
  {
   "cell_type": "markdown",
   "metadata": {},
   "source": [
    "The retriever acts like a smart search engine - when given a question or topic, it returns the most relevant documents from our database. It does so by finding the documents similar embeddings to the query. In LangChain, this is also done with `.invoke()`. Let's try an example."
   ]
  },
  {
   "cell_type": "code",
   "execution_count": 12,
   "metadata": {},
   "outputs": [
    {
     "data": {
      "text/plain": [
       "[Document(id='e39b5e49-ee59-49ef-930c-4c85b63f0440', metadata={'Headline': 'ARM Sees Shift to Cheaper Smartphones Boosting Chip Royalty', 'Link': 'http://www.bloomberg.com/news/2013-11-20/arm-sees-shift-toward-cheaper-smartphones-boosting-chip-royalty.html'}, page_content='ARM Holdings Plc (ARM) , the U.K. chip designer whose products power Apple Inc. (AAPL) ’s iPhones, predicts a shift in demand toward lower-priced smartphones will help boost royalty revenue. “There is a shift advantage for ARM as mid-range and entry smartphones drive smartphone growth. We’ve got that dynamic going into next year,” Chief Financial Officer Tim Score said at a conference in Barcelona yesterday. “Those phones generate much more royalty for ARM because they use more silicon.” ARM has had five consecutive years of revenue growth as its designs for chips that control graphics and processing were used in increasingly popular smartphones and tablets. Royalty payments took the spotlight last quarter as they missed analysts’ estimates. ARM shares have fallen almost 9 percent since the earnings report on Oct. 22. “As ARM technology becomes more sophisticated, the royalty percentage goes up,” Score said. “On average, it’s going to very gradually go up.” Global smartphone shipments surged 40 percent last quarter, slowing from 53 percent growth for the previous three-month period, according to researcher IDC. The average selling prices of the devices fell by 13 percent to $317 from a year earlier, because of demand for more affordable handsets. In spite of concerns about slowing growth, especially in China, Score said ARM can continue expanding its customer base and outperforming the semiconductor market in the next five years, driven by cheaper handsets, enterprise networking and micro-controllers. ARM shares fell less than 1 percent to 953.50 pence at 9:16 a.m. in London. New Chief Chief Executive Officer Simon Segars, who succeeded Warren East in July, is confronting a shift in the industry’s growth to low-end smartphones and new entrant Intel Corp. (INTC) , which has begun designing its own chips for mobile phones. ARM, based in Cambridge, England, is also seeking to boost its market share in servers as companies from Facebook Inc. (FB) to Google Inc. (GOOG) look for lower-power machines to drive their data centers. It’s “possible to identify such a market and build a chip specifically for that market, whether it is to handle only storage or only video loading, for example. We can make the chip much more efficient,” Score said at the annual Technology, Media and Telecoms Conference organized by Morgan Stanley. “Everyone knows Intel has a very strong ecosystem around servers, we’re not kidding ourselves,” Score said. “For that reason we see it as further out.”'),\n",
       " Document(id='47161591-3382-4965-8ea5-40d50f998c08', metadata={'Headline': 'Kony Solutions Weighs Public Offer as Early as This Year', 'Link': 'http://www.bloomberg.com/news/2013-04-16/kony-solutions-weighs-public-offer-as-early-as-this-year.html'}, page_content='Kony Solutions Inc. , a provider of mobile-application platforms, has talked to banks including Goldman Sachs Group Inc. (GS) and JPMorgan Chase & Co. (JPM) about selling shares in a public offering as early as this year. The company, which has its headquarters in Orlando , Florida , as well as in London , plans to select bankers this year after introducing a service that will provide easier access to its app platforms, Chief Executive Officer Raj Koneru said in an interview yesterday. The share sale will take place this year or in 2014, he said. “We are talking with a lot of bankers,” Koneru said. The company hasn’t decided how much stock to sell or the amount of funds to raise, he said. Kony, which has yet to make a profit, expects to record $80 million to $100 million in revenue this year, about double its 2012 sales, Koneru said. An initial public offering could raise at least $120 million for Kony, valuing the company at more than $700 million, Tom Taulli , an analyst who covers IPOs, said in an interview. “Enterprise is really hot right now,” Taulli said. “Right place at the right time -- that always helps with an IPO. I suspect they’ll do well.” Spending on app-development tools for multiple mobile operating systems will grow at an average annual rate of 39 percent to reach $8.2 billion in 2016, according to Smith’s Point Analytics LLC. Founded in 2007, Kony sells annual subscriptions for its app platform-service, which allows developers to customize products to their own specifications. The company has raised about $35 million from Georgian Partners and Insight Venture Partners and may use proceeds from an IPO to improve its software and for research and development, Koneru said.'),\n",
       " Document(id='578c42c5-dc18-4910-94fd-0b4b6b110087', metadata={'Headline': 'Hewlett-Packard Rises as Cash Return Anticipated', 'Link': 'http://www.bloomberg.com/news/2013-03-18/hewlett-packard-rises-as-cash-return-anticipated.html'}, page_content='Hewlett-Packard Co. (HPQ) rose to the highest price in 10 months after Morgan Stanley upgraded the shares, citing the potential for the company to return more cash to investors. The shares advanced 2.9 percent to $22.83 at the close in New York, the highest since May 14. The stock has gained 60 percent this year, compared with an 8.8 percent increase for the Standard & Poor’s 500 Index. Hewlett-Packard may generate free cash flow of about $6.7 billion in the 2013 fiscal year, almost 35 percent more than the company’s $5 billion forecast, according to Katy Huberty, an analyst at Morgan Stanley. As Chief Executive Officer Meg Whitman works to revive growth amid a slump in sales of personal-computers, restructuring may result in $2.2 billion in savings by the end of fiscal 2014, Huberty said. “Cash return in the form of a buyback or higher dividend is a likely scenario,” Huberty wrote in a research report today. She upgraded the shares with a buy recommendation and a $27 target price. “Even without revenue growth, we expect HP to grow earnings per share and free cash flow over the next three years.” Hewlett-Packard’s core personal-computer business is shrinking because of competition from lower-priced rivals such as China’s Lenovo Group Ltd. (992) and demand for mobile devices made by companies including Apple Inc. and Samsung Electronics Co. Hewlett-Packard’s enterprise business also is being undermined as companies look for more Internet-based cloud services. Whitman last September said the Palo Alto , California-based company planned to cut 29,000 jobs through the end of the 2014 fiscal year.')]"
      ]
     },
     "execution_count": 12,
     "metadata": {},
     "output_type": "execute_result"
    }
   ],
   "source": [
    "retriever.invoke(\"tech sector market trends\")"
   ]
  },
  {
   "cell_type": "markdown",
   "metadata": {},
   "source": [
    "### Creating the RAG System"
   ]
  },
  {
   "cell_type": "markdown",
   "metadata": {},
   "source": [
    "We can now augment our basic chatbot by providing it access to the retriever using **LangChain** tools, which allow the model to:\n",
    "- Query the document database if needed\n",
    "- Provide an answer based on the retrieved documents"
   ]
  },
  {
   "cell_type": "markdown",
   "metadata": {},
   "source": [
    "#### Creating a tool with LangChain"
   ]
  },
  {
   "cell_type": "markdown",
   "metadata": {},
   "source": [
    "We can create a tool using the `@tool` decorator from **LangChain** and provide it to the model using `.bind_tools()`. The model will receive all the relevant information about the tool thanks to the decorator. This way it knows how it works and can decide when to use it."
   ]
  },
  {
   "cell_type": "code",
   "execution_count": 13,
   "metadata": {},
   "outputs": [],
   "source": [
    "from langchain_core.messages import ToolMessage\n",
    "from langchain_core.tools import tool\n",
    "\n",
    "\n",
    "@tool\n",
    "def retrieval(retrieval_query: str) -> list[Document]:\n",
    "    \"\"\"Retrieve documents based on a query.\"\"\"\n",
    "    return retriever.invoke(retrieval_query)\n",
    "\n",
    "\n",
    "tools = [retrieval]\n",
    "tools_by_name = {tool.name: tool for tool in tools}"
   ]
  },
  {
   "cell_type": "code",
   "execution_count": 14,
   "metadata": {},
   "outputs": [],
   "source": [
    "RAG_PROMPT = \"\"\"\n",
    "You are a Financial Analyst with access to a Bloomberg Financial News database.\n",
    "\n",
    "Query the database to help the client with their request. Give a succinct and clear response based on the information you find.\n",
    "\"\"\"\n",
    "\n",
    "rag_model = base_model.bind_tools(tools)"
   ]
  },
  {
   "cell_type": "code",
   "execution_count": 15,
   "metadata": {},
   "outputs": [],
   "source": [
    "request = \"I want to invest in the tech sector. What are the best options?\"\n",
    "\n",
    "rag_response = rag_model.invoke(\n",
    "    [\n",
    "        SystemMessage(RAG_PROMPT),\n",
    "        HumanMessage(request),\n",
    "    ]\n",
    ")"
   ]
  },
  {
   "cell_type": "markdown",
   "metadata": {},
   "source": [
    "Let's check the answer. As we can see its content is empty, but a tool call has been made."
   ]
  },
  {
   "cell_type": "code",
   "execution_count": 16,
   "metadata": {},
   "outputs": [
    {
     "name": "stdout",
     "output_type": "stream",
     "text": [
      "Content: \n",
      "\n",
      "Tool Calls: [{'name': 'retrieval', 'args': {'retrieval_query': 'best investment options in tech sector 2023'}, 'id': 'call_D7duSPZ82kq7ZLsMczgI1xvw', 'type': 'tool_call'}]\n"
     ]
    }
   ],
   "source": [
    "print(f\"Content: {rag_response.content}\\n\\nTool Calls: {rag_response.tool_calls}\")"
   ]
  },
  {
   "cell_type": "markdown",
   "metadata": {},
   "source": [
    "Let's use the retrieval tool to retrieve documents following the model's query."
   ]
  },
  {
   "cell_type": "code",
   "execution_count": 17,
   "metadata": {},
   "outputs": [],
   "source": [
    "if rag_response.tool_calls:\n",
    "    tool_call = rag_response.tool_calls[0]\n",
    "    tool = tools_by_name[tool_call[\"name\"]]\n",
    "    documents = tool.invoke(tool_call[\"args\"])\n",
    "\n",
    "    documents_str = \"\\n\\n\".join(\n",
    "        [f\"{doc.metadata['Headline']}\\n\\n{doc.page_content}\\n\" for doc in documents]\n",
    "    )"
   ]
  },
  {
   "cell_type": "code",
   "execution_count": 18,
   "metadata": {},
   "outputs": [
    {
     "data": {
      "text/markdown": [
       "Mairs & Power’s Frels, Henneman Named Manager of the Year\n",
       "\n",
       "William Frels and Mark Henneman, who run the $2.5 billion Mairs & Power Growth Fund (MPGFX) , were named domestic stock-fund managers of the year by Morningstar Inc. (MORN)  The top honor for international stock funds went to the $1.3 billion Virtus Foreign Opportunities Fund and the $6.8 billion Virtus Emerging Markets Opportunities Fund, both run by Rajiv Jain, Chicago-based Morningstar said in a statement today. The fixed-income winner was Mark Kiesel , manager of the $10.2 billion Pimco Investment Grade Corporate Bond Fund. The six-member team that runs the $1.8 billion TFS Market Neutral Fund (TFSMX) won in the alternatives category. David Giroux of the $13.7 billion T. Rowe Price Capital Appreciation Fund was named allocation fund manager of the year. Both are new categories for the research firm’s awards. The Mairs & Power Growth Fund returned an average of 5.6 percent annually over the past five years, better than 89 percent of peers, according to data compiled by Bloomberg. Last year it returned 22 percent, topping 95 percent of rivals. Of the fund’s largest 25 holdings , 18 were bought in the 1990s and 17 have been in the portfolio for at least 10 years, Morningstar said in the statement. Virtus Emerging Markets Opportunities Fund (HIEMX) gained 3.8 percent annually for the past five years, better than 94 percent of competitors. The fund returned 20 percent in 2012, besting 58 percent of peers, according to the data. Kiesel’s Pimco fund outperformed 91 percent of similar funds over the past five years, returning 10 percent annually. The fund, which topped 77 percent of rivals in 2012, had 17 percent of its money in bank debt as of Sept. 30. Market Neutral TFS Market Neutral Fund gained 4.5 percent annually for the past five years, better than 97 percent of peers. The team’s 7.8 return last year topped 84 percent of rivals, according to data compiled by Bloomberg. Morningstar defines alternative investments as those that don’t fit neatly into traditional stock or fixed-income categories. T. Rowe Price Capital Appreciation gained 6 percent a year for the past five years, ahead of 95 percent of rivals. Its largest holding was Waltham, Massachusetts-based Thermo Fisher Scientific Inc. (TMO) as of Sept. 30, the data show. Giroux’s 15 percent return in 2012 beat 82 percent of the competition.\n",
       "\n",
       "\n",
       "Digital China Unit Plans $492 Million Merger With Shenzhen Techo\n",
       "\n",
       "Digital China Holdings Ltd. (861) , a distributor of technology products, said its information services unit will merge with Shenzhen Techo Telecom Co. (000555) in a 3.02 billion yuan ($492 million) all-stock deal. Shenzhen Techo will absorb Digital China Information Service Co. in exchange for 319.6 million new shares, about a 74 percent stake of its expanded share capital, Digital China said yesterday in a Hong Kong stock exchange filing. The merger gives Digital China a separate listing for its systems integration, applications software development and professional IT services business, according to the filing. Its distribution operations have been affected by a drop in consumer demand, Miles Xie, an analyst at Bocom International Holdings Ltd., wrote in a June report. The deal is deemed a spinoff under Stock Exchange of Hong Kong rules and will require approval from the exchange, Shenzhen Techo shareholders and Chinese government regulatory agencies, Digital China said. After the merger, Shenzhen Techo plans to discontinue its existing operations, the trading of liquid crystal film display panel products, according to the filing. Digital China said it will continue to distribute IT products and provide supply chain services. Digital China, which now owns 61 percent of the services unit, will hold a 45.2 percent in Shenzhen Techo, according to the filing. Tianjin Xinrui Investment Partnership LP, which owns 18.6 percent of the unit, will get a 13.8 percent stake in Shenzhen Techo, the company said. Unit investors China Singapore Suzhou Industrial Park Ventures Co., Infinity I-China Investments Israel LP and Nanjing Huiqing Tianxia Technology Co. will get stakes of 12.3 percent, 2.2 percent and 0.7 percent respectively, according to the filing. Digital China gained 1.4 percent to HK$8.64 at the close of Hong Kong trading yesterday, before the announcement. The stock has slumped 35 percent this year, compared with the 2.5 percent decline in the city’s benchmark Hang Seng Index. Shenzhen Techo has been suspended from trading in Shenzhen since May 6.\n",
       "\n",
       "\n",
       "Northern Trust Profit Rises 1.7% as Market Boosts Assets\n",
       "\n",
       "Northern Trust Corp. (NTRS) , the third- biggest independent U.S. custody bank, said first-quarter profit rose 1.7 percent as stock-market gains boosted the value of assets the company oversees. Net income increased to $164 million, or 67 cents per diluted share, from $161.2 million, or 66 cents a share, a year earlier, the Chicago-based company said today in a statement. Results missed the 72-cent average estimate of 16 analysts surveyed by Bloomberg. “We have a better macro backdrop with higher market levels this quarter, and we saw good organic growth across all three” of the largest publicly listed custody banks, Brian Bedell, a New York-based analyst at ISI Group Inc., said in an interview before results were released. The custody banks, under pressure to improve profitability hurt by record-low interest rates, are benefiting as global equity markets climb for the second straight year. Northern Trust, led by Chairman and Chief Executive Officer Frederick H. Waddell, followed larger rivals Bank of New York Mellon Corp. (BK) and State Street Corp. (STT) with job cuts in 2012 that, combined with technology initiatives, are designed to increase annual pretax income by $250 million by the end of this year. The Standard & Poor’s 500 Index (SPX) of U.S. stocks returned 14 percent in the 12 months ended March 31, and global stocks, as measured by the MSCI ACWI Index, advanced 11 percent, with reinvested dividends. Rate Impact Low rates hurt custody banks by reducing the return they make on lending and on their own investments. The U.S. Federal Reserve has held its benchmark interest rate at zero to 0.25 percent since December 2008 in an attempt to stimulate borrowing and economic growth. Custody banks keep records, track performance and lend securities for institutional investors, including mutual funds, pension funds and hedge funds. Northern Trust also manages investments for individuals and institutions. Results were announced before the start of regular U.S. trading. Northern Trust gained 7.3 percent this year through yesterday, compared with a 15 percent advance by the Standard & Poor’s 20-company index of asset managers and custody banks. BNY Mellon is scheduled to released earnings tomorrow, followed by State Street on April 19. (Northern Trust is scheduled to hold a conference call for investors at 10 a.m. New York time. The call can be accessed at http://www.northerntrust/financialreleases .)\n"
      ],
      "text/plain": [
       "<IPython.core.display.Markdown object>"
      ]
     },
     "execution_count": 18,
     "metadata": {},
     "output_type": "execute_result"
    }
   ],
   "source": [
    "Markdown(documents_str)"
   ]
  },
  {
   "cell_type": "markdown",
   "metadata": {},
   "source": [
    "We can now add the tool's output to the message chain with `ToolMessage`, so the model can answer based on the retrieved documents.\n",
    "\n",
    "*Note: Here we use the base model instead of the RAG model to limit our agent to one retrieval call. A fully autonomous agent could decide to make subsequent calls to best answer the request*"
   ]
  },
  {
   "cell_type": "code",
   "execution_count": 19,
   "metadata": {},
   "outputs": [],
   "source": [
    "response = base_model.invoke(\n",
    "    [\n",
    "        SystemMessage(RAG_PROMPT),\n",
    "        HumanMessage(request),\n",
    "        rag_response,\n",
    "        ToolMessage(content=documents_str, tool_call_id=tool_call[\"id\"]),\n",
    "    ]\n",
    ")"
   ]
  },
  {
   "cell_type": "code",
   "execution_count": 20,
   "metadata": {},
   "outputs": [
    {
     "data": {
      "text/markdown": [
       "For investing in the tech sector, consider the following options based on recent performance and recognition:\n",
       "\n",
       "1. **Mairs & Power Growth Fund (MPGFX)**: This fund has been recognized as one of the top domestic stock-fund managers by Morningstar. It has returned an average of 5.6% annually over the past five years, outperforming 89% of its peers. Last year, it achieved a 22% return.\n",
       "\n",
       "2. **Virtus Emerging Markets Opportunities Fund (HIEMX)**: This fund has also shown strong performance, gaining 3.8% annually over the past five years and returning 20% in 2012, outperforming 58% of its competitors.\n",
       "\n",
       "3. **T. Rowe Price Capital Appreciation Fund**: This fund has gained 6% annually over the past five years, ahead of 95% of rivals, with a notable holding in Thermo Fisher Scientific Inc.\n",
       "\n",
       "These funds are well-regarded in the tech sector and have demonstrated consistent performance, making them strong candidates for investment. Always consider your risk tolerance and investment goals before proceeding."
      ],
      "text/plain": [
       "<IPython.core.display.Markdown object>"
      ]
     },
     "execution_count": 20,
     "metadata": {},
     "output_type": "execute_result"
    }
   ],
   "source": [
    "Markdown(response.content)"
   ]
  },
  {
   "cell_type": "markdown",
   "metadata": {},
   "source": [
    "## Practical Tips"
   ]
  },
  {
   "cell_type": "markdown",
   "metadata": {},
   "source": [
    "- Watch the temperature setting: Lower values (like 0) are usually better for factual responses\n",
    "- Pay attention to the number of retrieved documents (`RETRIEVAL_K`): More isn't always better\n",
    "- The system prompt is crucial: It sets the context and behavior of your bot"
   ]
  },
  {
   "cell_type": "markdown",
   "metadata": {},
   "source": [
    "## Conclusion"
   ]
  },
  {
   "cell_type": "markdown",
   "metadata": {},
   "source": [
    "You just learned how to create a chatbot and augment it with a retrieval tool using **LangChain**, this concludes the first part of our workshop!\n",
    "\n",
    "In the next section, we'll discover **LangGraph** and show how it allows to build sophisticated and flexible LLMs workflows."
   ]
  }
 ],
 "metadata": {
  "kernelspec": {
   "display_name": ".venv",
   "language": "python",
   "name": "python3"
  },
  "language_info": {
   "codemirror_mode": {
    "name": "ipython",
    "version": 3
   },
   "file_extension": ".py",
   "mimetype": "text/x-python",
   "name": "python",
   "nbconvert_exporter": "python",
   "pygments_lexer": "ipython3",
   "version": "3.13.2"
  }
 },
 "nbformat": 4,
 "nbformat_minor": 2
}
